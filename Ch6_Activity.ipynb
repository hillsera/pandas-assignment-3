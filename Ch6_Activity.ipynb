{
  "nbformat": 4,
  "nbformat_minor": 0,
  "metadata": {
    "colab": {
      "provenance": [],
      "authorship_tag": "ABX9TyPDkoE4Bhf8w1U5faoxm8pK",
      "include_colab_link": true
    },
    "kernelspec": {
      "name": "python3",
      "display_name": "Python 3"
    },
    "language_info": {
      "name": "python"
    }
  },
  "cells": [
    {
      "cell_type": "markdown",
      "metadata": {
        "id": "view-in-github",
        "colab_type": "text"
      },
      "source": [
        "<a href=\"https://colab.research.google.com/github/hillsera/pandas-assignment-3/blob/master/Ch6_Activity.ipynb\" target=\"_parent\"><img src=\"https://colab.research.google.com/assets/colab-badge.svg\" alt=\"Open In Colab\"/></a>"
      ]
    },
    {
      "cell_type": "code",
      "execution_count": 1,
      "metadata": {
        "id": "WybZ9gQEw1y-"
      },
      "outputs": [],
      "source": [
        "import pandas as pd"
      ]
    },
    {
      "cell_type": "code",
      "source": [
        "populations_2010 = pd.read_csv('/content/sample_data/US_Census_SUB-IP-EST2019-ANNRNK_top_20_2010.csv', index_col = [0], squeeze = True)\n",
        "populations_2010"
      ],
      "metadata": {
        "colab": {
          "base_uri": "https://localhost:8080/"
        },
        "id": "HHXA1Tmbw7jf",
        "outputId": "1c79489c-3391-4567-d4fa-8c939be15049"
      },
      "execution_count": 2,
      "outputs": [
        {
          "output_type": "stream",
          "name": "stderr",
          "text": [
            "<ipython-input-2-f5dc2c29c59a>:1: FutureWarning: The squeeze argument has been deprecated and will be removed in a future version. Append .squeeze(\"columns\") to the call to squeeze.\n",
            "\n",
            "\n",
            "  populations_2010 = pd.read_csv('/content/sample_data/US_Census_SUB-IP-EST2019-ANNRNK_top_20_2010.csv', index_col = [0], squeeze = True)\n"
          ]
        },
        {
          "output_type": "execute_result",
          "data": {
            "text/plain": [
              "City\n",
              "New York                8190209\n",
              "Los Angeles             3795512\n",
              "Chicago                 2697477\n",
              "Houston                 2100280\n",
              "Phoenix                 1449038\n",
              "Philadelphia            1528283\n",
              "San Antonio             1332299\n",
              "San Diego               1305906\n",
              "Dallas                  1200350\n",
              "San Jose                 954940\n",
              "Austin                   806164\n",
              "Jacksonville             823114\n",
              "Fort Worth               748441\n",
              "Columbus                 790943\n",
              "Charlotte                738444\n",
              "San Francisco            805505\n",
              "Indianapolis             821579\n",
              "Seattle                  610630\n",
              "Denver                   603359\n",
              "District of Columbia     605226\n",
              "Name: 2010, dtype: int64"
            ]
          },
          "metadata": {},
          "execution_count": 2
        }
      ]
    },
    {
      "cell_type": "code",
      "source": [
        "top3_2010 = sum(populations_2010[['New York', 'Los Angeles', 'Chicago']])"
      ],
      "metadata": {
        "id": "MysPGHv5xMUj"
      },
      "execution_count": 3,
      "outputs": []
    },
    {
      "cell_type": "code",
      "source": [
        "populations_2019 = pd.read_csv('/content/sample_data/US_Census_SUB-IP-EST2019-ANNRNK_top_20_2019.csv', index_col = [0], squeeze = True)\n",
        "populations_2019"
      ],
      "metadata": {
        "colab": {
          "base_uri": "https://localhost:8080/"
        },
        "id": "eqxhv0UXx4PW",
        "outputId": "d7a5cc43-df6e-486b-9213-0bc6d909888a"
      },
      "execution_count": 4,
      "outputs": [
        {
          "output_type": "stream",
          "name": "stderr",
          "text": [
            "<ipython-input-4-b841d4409dc5>:1: FutureWarning: The squeeze argument has been deprecated and will be removed in a future version. Append .squeeze(\"columns\") to the call to squeeze.\n",
            "\n",
            "\n",
            "  populations_2019 = pd.read_csv('/content/sample_data/US_Census_SUB-IP-EST2019-ANNRNK_top_20_2019.csv', index_col = [0], squeeze = True)\n"
          ]
        },
        {
          "output_type": "execute_result",
          "data": {
            "text/plain": [
              "City\n",
              "New York                8336817\n",
              "Los Angeles             3979576\n",
              "Chicago                 2693976\n",
              "Houston                 2320268\n",
              "Phoenix                 1680992\n",
              "Philadelphia            1584064\n",
              "San Antonio             1547253\n",
              "San Diego               1423851\n",
              "Dallas                  1343573\n",
              "San Jose                1021795\n",
              "Austin                   978908\n",
              "Jacksonville             911507\n",
              "Fort Worth               909585\n",
              "Columbus                 898553\n",
              "Charlotte                885708\n",
              "San Francisco            881549\n",
              "Indianapolis             876384\n",
              "Seattle                  753675\n",
              "Denver                   727211\n",
              "District of Columbia     705749\n",
              "Name: 2019, dtype: int64"
            ]
          },
          "metadata": {},
          "execution_count": 4
        }
      ]
    },
    {
      "cell_type": "code",
      "source": [
        "top3_2019 = sum(populations_2019[['New York', 'Los Angeles', 'Chicago']])"
      ],
      "metadata": {
        "id": "DtBMCAhXymwE"
      },
      "execution_count": 5,
      "outputs": []
    },
    {
      "cell_type": "code",
      "source": [
        "top3_change = 100 * (top3_2019 - top3_2010) / top3_2010\n",
        "all_change = 100 * sum(populations_2019 - populations_2010) / sum(populations_2010)\n",
        "print('top 3 changed ', str(round(top3_change, 1)), '%\\n', 'vs. all changed ', str(round(all_change, 1)), '%')"
      ],
      "metadata": {
        "colab": {
          "base_uri": "https://localhost:8080/"
        },
        "id": "xIRrhLrPyxi3",
        "outputId": "3558fc91-f638-4417-9510-f210a5eacc58"
      },
      "execution_count": 6,
      "outputs": [
        {
          "output_type": "stream",
          "name": "stdout",
          "text": [
            "top 3 changed  2.2 %\n",
            " vs. all changed  8.0 %\n"
          ]
        }
      ]
    },
    {
      "cell_type": "code",
      "source": [],
      "metadata": {
        "id": "EkvhwSDszI3j"
      },
      "execution_count": 6,
      "outputs": []
    }
  ]
}